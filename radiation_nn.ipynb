{
 "cells": [
  {
   "cell_type": "code",
   "execution_count": 1,
   "id": "46e3d878",
   "metadata": {},
   "outputs": [],
   "source": [
    "import pandas as pd\n",
    "import torch\n",
    "import torch.nn as nn\n",
    "import torch.optim as optim\n",
    "from sklearn.preprocessing import MinMaxScaler\n",
    "from sklearn.model_selection import train_test_split\n",
    "from torch.utils.data import TensorDataset, DataLoader\n",
    "import matplotlib.pyplot as plt"
   ]
  },
  {
   "cell_type": "code",
   "execution_count": null,
   "id": "14eff049",
   "metadata": {},
   "outputs": [
    {
     "name": "stdout",
     "output_type": "stream",
     "text": [
      "(5000, 3) (5000, 2)\n"
     ]
    }
   ],
   "source": [
    "# 读取数据\n",
    "df = pd.read_csv('data/atmospheric_radiation_dataset.csv')\n",
    "\n",
    "# 分离输入和输出\n",
    "X = df[['p', 'T','density']].values\n",
    "Y = df[['up_flux', 'down_flux']].values\n",
    "print(X.shape,Y.shape)"
   ]
  },
  {
   "cell_type": "code",
   "execution_count": null,
   "id": "ddc14f7b",
   "metadata": {},
   "outputs": [],
   "source": []
  },
  {
   "cell_type": "code",
   "execution_count": 3,
   "id": "1fb5a953",
   "metadata": {},
   "outputs": [
    {
     "name": "stdout",
     "output_type": "stream",
     "text": [
      "(5000, 3)\n",
      "(5000, 2)\n"
     ]
    }
   ],
   "source": [
    "# 输入归一化\n",
    "scaler_X = MinMaxScaler()\n",
    "X_scaled = scaler_X.fit_transform(X)\n",
    "print(X_scaled.shape)\n",
    "# 输出归一化\n",
    "scaler_Y = MinMaxScaler()\n",
    "Y_scaled = scaler_Y.fit_transform(Y)\n",
    "print(Y_scaled.shape)"
   ]
  },
  {
   "cell_type": "code",
   "execution_count": 4,
   "id": "f52dfeaf",
   "metadata": {},
   "outputs": [],
   "source": [
    "X = X_scaled.reshape(100, 50, 3)  # 100个case，每个case有50层，每层3个特征\n",
    "Y = Y_scaled.reshape(100, 50, 2)  # 100个case，每个case有50层，每层2个输出（up_flux, down_flux）"
   ]
  },
  {
   "cell_type": "code",
   "execution_count": 11,
   "id": "c3c6aa7d",
   "metadata": {},
   "outputs": [
    {
     "name": "stdout",
     "output_type": "stream",
     "text": [
      "(80, 50, 3)\n",
      "训练集 X 形状: torch.Size([80, 50, 3]), Y 形状: torch.Size([80, 50, 2])\n",
      "测试集 X 形状: torch.Size([20, 50, 3]), Y 形状: torch.Size([20, 50, 2])\n"
     ]
    }
   ],
   "source": [
    "# 划分训练集和测试集\n",
    "X_train, X_test, Y_train, Y_test = train_test_split(X, Y, test_size=0.2, random_state=42)\n",
    "print(X_train.shape)\n",
    "\n",
    "# 转换为 PyTorch 张量\n",
    "X_train_tensor = torch.tensor(X_train, dtype=torch.float32)\n",
    "Y_train_tensor = torch.tensor(Y_train, dtype=torch.float32)\n",
    "X_test_tensor = torch.tensor(X_test, dtype=torch.float32)\n",
    "Y_test_tensor = torch.tensor(Y_test, dtype=torch.float32)\n",
    "\n",
    "# 输出形状确认\n",
    "print(f\"训练集 X 形状: {X_train_tensor.shape}, Y 形状: {Y_train_tensor.shape}\")\n",
    "print(f\"测试集 X 形状: {X_test_tensor.shape}, Y 形状: {Y_test_tensor.shape}\")"
   ]
  },
  {
   "cell_type": "code",
   "execution_count": 12,
   "id": "397598d6",
   "metadata": {},
   "outputs": [],
   "source": [
    "# 创建 DataLoader\n",
    "train_loader = DataLoader(TensorDataset(X_train_tensor, Y_train_tensor), batch_size=32, shuffle=True)\n",
    "test_loader = DataLoader(TensorDataset(X_test_tensor, Y_test_tensor), batch_size=32, shuffle=False)"
   ]
  },
  {
   "cell_type": "code",
   "execution_count": 28,
   "id": "9c5c19f6",
   "metadata": {},
   "outputs": [],
   "source": [
    "class RadiationCNN(nn.Module):\n",
    "    def __init__(self):\n",
    "        super(RadiationCNN, self).__init__()\n",
    "        self.conv1 = nn.Conv1d(in_channels=3, out_channels=64, kernel_size=3, padding=1)\n",
    "        self.relu1 = nn.ReLU()\n",
    "        self.conv2 = nn.Conv1d(64, 64, kernel_size=3, padding=1)\n",
    "        self.relu2 = nn.ReLU()\n",
    "        self.fc = nn.Linear(64, 2)  # 每层预测两个通量: 向上和向下\n",
    "\n",
    "    def forward(self, x):\n",
    "        x = x.permute(0, 2, 1)  # (batch, 3, 50)\n",
    "        x = self.relu1(self.conv1(x))\n",
    "        x = self.relu2(self.conv2(x))\n",
    "        x = x.permute(0, 2, 1)  # (batch, 50, 64)\n",
    "        x = self.fc(x)           # (batch, 50, 2)\n",
    "        return x\n"
   ]
  },
  {
   "cell_type": "code",
   "execution_count": 29,
   "id": "19a3278a",
   "metadata": {},
   "outputs": [
    {
     "name": "stdout",
     "output_type": "stream",
     "text": [
      "RadiationCNN(\n",
      "  (conv1): Conv1d(3, 64, kernel_size=(3,), stride=(1,), padding=(1,))\n",
      "  (relu1): ReLU()\n",
      "  (conv2): Conv1d(64, 64, kernel_size=(3,), stride=(1,), padding=(1,))\n",
      "  (relu2): ReLU()\n",
      "  (fc): Linear(in_features=64, out_features=2, bias=True)\n",
      ")\n"
     ]
    }
   ],
   "source": [
    "# Initialize model\n",
    "model = RadiationCNN()  # 3 features per layer\n",
    "print(model)\n",
    "\n",
    "criterion = nn.MSELoss()\n",
    "optimizer = optim.Adam(model.parameters(), lr=1e-3)"
   ]
  },
  {
   "cell_type": "code",
   "execution_count": 30,
   "id": "7abf5d6a",
   "metadata": {},
   "outputs": [
    {
     "name": "stdout",
     "output_type": "stream",
     "text": [
      "Epoch [10/50], Loss: 0.0540\n",
      "Epoch [20/50], Loss: 0.0544\n",
      "Epoch [30/50], Loss: 0.0473\n",
      "Epoch [40/50], Loss: 0.0441\n",
      "Epoch [50/50], Loss: 0.0436\n"
     ]
    }
   ],
   "source": [
    "# 训练模型\n",
    "num_epochs = 50\n",
    "# Training loop\n",
    "for epoch in range(num_epochs):\n",
    "    model.train()  # Set the model to training mode\n",
    "    optimizer.zero_grad()  # Clear previous gradients\n",
    "    output = model(X_train_tensor)  # Forward pass\n",
    "\n",
    "    # Flatten the model's output to (batch_size * 50, 2)\n",
    "    output_flat = output.reshape(-1, 2)  # Reshaping to (batch_size * 50, 2)\n",
    "    \n",
    "    # Flatten Y_train_tensor to (batch_size * 50, 2)\n",
    "    Y_train_flat = Y_train_tensor.reshape(-1, 2)  # Reshaping to (batch_size * 50, 2)\n",
    "\n",
    "    # Compute the loss\n",
    "    loss = criterion(output_flat, Y_train_flat)\n",
    "    \n",
    "    loss.backward()  # Backpropagate the loss\n",
    "    optimizer.step()  # Update the model parameters\n",
    "\n",
    "    if (epoch + 1) % 10 == 0:\n",
    "        print(f\"Epoch [{epoch+1}/{num_epochs}], Loss: {loss.item():.4f}\")\n",
    "\n"
   ]
  },
  {
   "cell_type": "code",
   "execution_count": 32,
   "id": "ddb49f21",
   "metadata": {},
   "outputs": [
    {
     "name": "stdout",
     "output_type": "stream",
     "text": [
      "Test Loss: 0.0553\n"
     ]
    }
   ],
   "source": [
    "# 验证\n",
    "model.eval()\n",
    "with torch.no_grad():\n",
    "    Y_pred = model(X_test_tensor)  # 测试集的预测结果\n",
    "    test_loss = criterion(Y_pred, Y_test_tensor)  # 计算测试集损失\n",
    "    print(f\"Test Loss: {test_loss.item():.4f}\")"
   ]
  },
  {
   "cell_type": "code",
   "execution_count": 34,
   "id": "d3c033ba",
   "metadata": {},
   "outputs": [
    {
     "data": {
      "image/png": "[encoded data removed]",
      "text/plain": [
       "<Figure size 640x480 with 1 Axes>"
      ]
     },
     "metadata": {},
     "output_type": "display_data"
    }
   ],
   "source": [
    "# 反归一化输出\n",
    "Y_pred = scaler_Y.inverse_transform(Y_pred.reshape(-1, 2)).reshape(-1, Y_test.shape[1], 2)\n",
    "Y_true = scaler_Y.inverse_transform(Y_test.reshape(-1, 2)).reshape(-1, Y_test.shape[1], 2)\n",
    "\n",
    "# 可视化结果\n",
    "sample_idx = 0  # 可视化第一个样本\n",
    "plt.plot(Y_true[sample_idx, :, 0], label=\"True Upward Flux\")\n",
    "plt.plot(Y_pred[sample_idx, :, 0], label=\"Pred Upward Flux\")\n",
    "plt.plot(Y_true[sample_idx, :, 1], label=\"True Downward Flux\")\n",
    "plt.plot(Y_pred[sample_idx, :, 1], label=\"Pred Downward Flux\")\n",
    "plt.xlabel(\"Layer Index\")\n",
    "plt.ylabel(\"Flux\")\n",
    "plt.legend()\n",
    "plt.show()\n"
   ]
  }
 ],
 "metadata": {
  "kernelspec": {
   "display_name": "d2l",
   "language": "python",
   "name": "python3"
  },
  "language_info": {
   "codemirror_mode": {
    "name": "ipython",
    "version": 3
   },
   "file_extension": ".py",
   "mimetype": "text/x-python",
   "name": "python",
   "nbconvert_exporter": "python",
   "pygments_lexer": "ipython3",
   "version": "3.10.18"
  }
 },
 "nbformat": 4,
 "nbformat_minor": 5
}
